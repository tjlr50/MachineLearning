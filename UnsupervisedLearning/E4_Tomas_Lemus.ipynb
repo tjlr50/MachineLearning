{
  "nbformat": 4,
  "nbformat_minor": 0,
  "metadata": {
    "colab": {
      "name": "E4_Tomas_Lemus.ipynb",
      "provenance": []
    },
    "kernelspec": {
      "name": "python3",
      "display_name": "Python 3"
    }
  },
  "cells": [
    {
      "cell_type": "markdown",
      "metadata": {
        "id": "5lSol7OP70T3"
      },
      "source": [
        "Tomas lemus"
      ]
    },
    {
      "cell_type": "markdown",
      "metadata": {
        "id": "xRANsGgWCAms"
      },
      "source": [
        "PROBLEM STATEMENT FOR THE UNSUPERVISED LEARNING SECTION\r\n",
        "OF THE MACHINE LEARNING PART OF THE COURSE\r\n",
        "1. You must load the machine learning dataset that you already used in the Introduction\r\n",
        "section. This time the class labels are not going to be used, since we want the clustering\r\n",
        "algorithms to discover clusters in the data without any prior information about the\r\n",
        "classes.\r\n",
        "2. Run K-means on the dataset with K ranging from 2 to 10 clusters. Then plot the\r\n",
        "resulting Mean Squared Error for each considered value of K. Please see:\r\n",
        "http://scikit-learn.org/stable/tutorial/statistical_inference/unsupervised_learning.html\r\n",
        "3. Run mean shift clustering with different bandwidths. You will have to find out a\r\n",
        "relevant range of possible bandwidths. Then plot the obtained Mean Squared Error and\r\n",
        "the number of discovered clusters for the considered bandwidths. Please see:\r\n",
        "http://scikit-learn.org/stable/modules/generated/sklearn.cluster.MeanShift.html\r\n",
        "Note: After you finish your work, you must download the Jupyter Notebook in PDF\r\n",
        "format (the menu option is File -> Print -> Save as PDF). Then you must put the .pdf\r\n",
        "and .ipynb files into a .zip archive file, and submit the .zip file to the virtual campus\r\n",
        "activity"
      ]
    },
    {
      "cell_type": "code",
      "metadata": {
        "id": "7VixCxMZKrHP"
      },
      "source": [
        "from sklearn.metrics import mean_squared_error, silhouette_score"
      ],
      "execution_count": 1,
      "outputs": []
    },
    {
      "cell_type": "code",
      "metadata": {
        "id": "pOeplMz3CUPT"
      },
      "source": [
        "from sklearn import cluster\r\n",
        "from matplotlib import pyplot as plt"
      ],
      "execution_count": 13,
      "outputs": []
    },
    {
      "cell_type": "markdown",
      "metadata": {
        "id": "Wp8D_tcFBbB6"
      },
      "source": [
        "#1. Load Dataset"
      ]
    },
    {
      "cell_type": "code",
      "metadata": {
        "colab": {
          "base_uri": "https://localhost:8080/"
        },
        "id": "L9k3_qnACdBA",
        "outputId": "7726c96a-3b57-4409-ef56-9ff93ab1b892"
      },
      "source": [
        "from google.colab import drive\r\n",
        "from sklearn.model_selection import train_test_split\r\n",
        "from sklearn.datasets import load_svmlight_file\r\n",
        "import numpy as np\r\n",
        "\r\n",
        "drive.mount('/content/drive') "
      ],
      "execution_count": 3,
      "outputs": [
        {
          "output_type": "stream",
          "text": [
            "Mounted at /content/drive\n"
          ],
          "name": "stdout"
        }
      ]
    },
    {
      "cell_type": "code",
      "metadata": {
        "id": "stGK6tzsGAnk"
      },
      "source": [
        "X, Y = load_svmlight_file(\"/content/drive/MyDrive/UMA/CIENCIADATOSl/Dataset/wine.scale\")"
      ],
      "execution_count": 4,
      "outputs": []
    },
    {
      "cell_type": "markdown",
      "metadata": {
        "id": "-csrmzJPDKtQ"
      },
      "source": [
        "### 2. k-means & Mean Squared Error for each cluster"
      ]
    },
    {
      "cell_type": "code",
      "metadata": {
        "colab": {
          "base_uri": "https://localhost:8080/"
        },
        "id": "ZXsn9C2C-TvM",
        "outputId": "c42bd59b-a1c1-4fd4-9447-4257b053b9e0"
      },
      "source": [
        " cls=np.arange(11)\r\n",
        "listclst=list()\r\n",
        "a=1\r\n",
        "for i in cls:\r\n",
        "  if i>a:\r\n",
        "    k_means = cluster.KMeans(n_clusters=i)\r\n",
        "    k_means.fit(X)\r\n",
        "    i3=k_means.inertia_\r\n",
        "    listclst.append(i3)\r\n",
        "    print(\"Mean Squared Error for \"+ str(i) + \" clusters is :\",i3)\r\n",
        "\r\n"
      ],
      "execution_count": 11,
      "outputs": [
        {
          "output_type": "stream",
          "text": [
            "Mean Squared Error for 2 clusters is : 258.1506682172302\n",
            "Mean Squared Error for 3 clusters is : 195.8161418836718\n",
            "Mean Squared Error for 4 clusters is : 179.07732502706475\n",
            "Mean Squared Error for 5 clusters is : 169.23321943084525\n",
            "Mean Squared Error for 6 clusters is : 161.89076750748663\n",
            "Mean Squared Error for 7 clusters is : 150.71926393424323\n",
            "Mean Squared Error for 8 clusters is : 144.2532170679246\n",
            "Mean Squared Error for 9 clusters is : 139.02780513397587\n",
            "Mean Squared Error for 10 clusters is : 133.41102914420784\n"
          ],
          "name": "stdout"
        }
      ]
    },
    {
      "cell_type": "code",
      "metadata": {
        "colab": {
          "base_uri": "https://localhost:8080/",
          "height": 265
        },
        "id": "5tuXJPPP0QRg",
        "outputId": "658d2686-6f8e-4b08-9aa1-9607c7436eeb"
      },
      "source": [
        "plt.figure()\r\n",
        "plt.plot(listclst)\r\n",
        "plt.ylabel('Squared Error')\r\n",
        "plt.show()"
      ],
      "execution_count": 15,
      "outputs": [
        {
          "output_type": "display_data",
          "data": {
            "image/png": "[encoded data removed]",
            "text/plain": [
              "<Figure size 432x288 with 1 Axes>"
            ]
          },
          "metadata": {
            "tags": [],
            "needs_background": "light"
          }
        }
      ]
    },
    {
      "cell_type": "markdown",
      "metadata": {
        "id": "HyXNSfNBMMsc"
      },
      "source": [
        "### 3.Running mean shift clustering with different bandwidths."
      ]
    },
    {
      "cell_type": "code",
      "metadata": {
        "colab": {
          "base_uri": "https://localhost:8080/"
        },
        "id": "TIy2BsBKKG1F",
        "outputId": "a2a09cbc-5112-4e52-c3b7-f78cb966ac76"
      },
      "source": [
        "bandwidth = cluster.estimate_bandwidth(X.toarray())\r\n",
        "print(\"Estimate bandwidth: \",bandwidth)"
      ],
      "execution_count": 6,
      "outputs": [
        {
          "output_type": "stream",
          "text": [
            "Estimate bandwidth:  1.6342764436921735\n"
          ],
          "name": "stdout"
        }
      ]
    },
    {
      "cell_type": "markdown",
      "metadata": {
        "id": "imBZBCdjMe0P"
      },
      "source": [
        "Testing with differents bandwidth and observing their numbers of clusters"
      ]
    },
    {
      "cell_type": "code",
      "metadata": {
        "colab": {
          "base_uri": "https://localhost:8080/"
        },
        "id": "Xt9XjryAGeLl",
        "outputId": "2941ecad-1d4a-43ca-fbaf-6993d2ed2ec9"
      },
      "source": [
        "clustering = cluster.MeanShift().fit(X.toarray())\r\n",
        "clustering.cluster_centers_.size"
      ],
      "execution_count": 7,
      "outputs": [
        {
          "output_type": "execute_result",
          "data": {
            "text/plain": [
              "13"
            ]
          },
          "metadata": {
            "tags": []
          },
          "execution_count": 7
        }
      ]
    },
    {
      "cell_type": "code",
      "metadata": {
        "colab": {
          "base_uri": "https://localhost:8080/"
        },
        "id": "U4mZgt4CIUyL",
        "outputId": "b7202934-a28d-44c4-cd38-a6241a4ea021"
      },
      "source": [
        "clustering.set_params(bandwidth=bandwidth)\r\n",
        "clustering.fit(X.toarray())\r\n",
        "clustering.cluster_centers_.size"
      ],
      "execution_count": 8,
      "outputs": [
        {
          "output_type": "execute_result",
          "data": {
            "text/plain": [
              "13"
            ]
          },
          "metadata": {
            "tags": []
          },
          "execution_count": 8
        }
      ]
    },
    {
      "cell_type": "code",
      "metadata": {
        "colab": {
          "base_uri": "https://localhost:8080/"
        },
        "id": "-yEIN93EMEQV",
        "outputId": "f05def01-a56d-4599-8971-0de00e0df570"
      },
      "source": [
        "clustering.set_params(bandwidth=5)\r\n",
        "clustering.fit(X.toarray())\r\n",
        "clustering.cluster_centers_.size"
      ],
      "execution_count": 9,
      "outputs": [
        {
          "output_type": "execute_result",
          "data": {
            "text/plain": [
              "13"
            ]
          },
          "metadata": {
            "tags": []
          },
          "execution_count": 9
        }
      ]
    },
    {
      "cell_type": "code",
      "metadata": {
        "colab": {
          "base_uri": "https://localhost:8080/"
        },
        "id": "uhEdTi_ZMGLw",
        "outputId": "09664686-ceda-4f2c-bf3b-f0ce96d8758b"
      },
      "source": [
        "clustering.set_params(bandwidth=10)\r\n",
        "clustering.fit(X.toarray())\r\n",
        "clustering.cluster_centers_.size"
      ],
      "execution_count": 10,
      "outputs": [
        {
          "output_type": "execute_result",
          "data": {
            "text/plain": [
              "13"
            ]
          },
          "metadata": {
            "tags": []
          },
          "execution_count": 10
        }
      ]
    },
    {
      "cell_type": "markdown",
      "metadata": {
        "id": "Ya9nHMXS4Zg5"
      },
      "source": [
        "Inicialmente se realizó la estimación del bandwidth y de igual modo se asignaron diferentes bandwidth, sin embargo siempre se obtuvo el mismo numero de clusters (13) lo cual es bueno porque sería el valor esperado del dataset original."
      ]
    }
  ]
}